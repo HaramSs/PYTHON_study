{
 "cells": [
  {
   "cell_type": "code",
   "execution_count": 1,
   "id": "79b394d5-d8d0-4eb7-8890-1f75c48def9a",
   "metadata": {},
   "outputs": [
    {
     "data": {
      "text/plain": [
       "30"
      ]
     },
     "execution_count": 1,
     "metadata": {},
     "output_type": "execute_result"
    }
   ],
   "source": [
    "10 + 20"
   ]
  },
  {
   "cell_type": "code",
   "execution_count": 2,
   "id": "e307e847-c6f0-4b85-9d86-2c7bb540c2a0",
   "metadata": {},
   "outputs": [
    {
     "name": "stdout",
     "output_type": "stream",
     "text": [
      "Hello World\n"
     ]
    }
   ],
   "source": [
    "print('Hello World')"
   ]
  },
  {
   "cell_type": "code",
   "execution_count": 4,
   "id": "375d80e1-7b50-4ca7-98d4-3982945e4496",
   "metadata": {},
   "outputs": [
    {
     "name": "stdout",
     "output_type": "stream",
     "text": [
      "3000\n"
     ]
    }
   ],
   "source": [
    "a = 15\n",
    "b = 20\n",
    "print(a*b*10)"
   ]
  },
  {
   "cell_type": "markdown",
   "id": "7c1e81ac-a691-4bd4-84a3-35425da23de9",
   "metadata": {},
   "source": [
    "<u><b>파이썬</b></u>"
   ]
  },
  {
   "cell_type": "markdown",
   "id": "9300cd65-2912-440d-adc6-c3657cc4ec93",
   "metadata": {},
   "source": [
    "*안녕하세요*"
   ]
  },
  {
   "cell_type": "markdown",
   "id": "bc97dfdb-6fd1-47e6-a7a2-be5003525f72",
   "metadata": {},
   "source": [
    "**안녕하세요**"
   ]
  },
  {
   "cell_type": "markdown",
   "id": "ba8fa839-287a-4a94-a52b-5bcfaef3871d",
   "metadata": {},
   "source": [
    "~~취소된 텍스트~~"
   ]
  },
  {
   "cell_type": "markdown",
   "id": "efd3830d-f6d7-4524-9a23-19b7795be379",
   "metadata": {},
   "source": [
    "<del>취소된 텍스트</del>"
   ]
  },
  {
   "cell_type": "code",
   "execution_count": null,
   "id": "5c9aa326-b7a8-4db9-9e21-c138f98dac17",
   "metadata": {},
   "outputs": [],
   "source": []
  }
 ],
 "metadata": {
  "kernelspec": {
   "display_name": "Python 3 (ipykernel)",
   "language": "python",
   "name": "python3"
  },
  "language_info": {
   "codemirror_mode": {
    "name": "ipython",
    "version": 3
   },
   "file_extension": ".py",
   "mimetype": "text/x-python",
   "name": "python",
   "nbconvert_exporter": "python",
   "pygments_lexer": "ipython3",
   "version": "3.11.9"
  }
 },
 "nbformat": 4,
 "nbformat_minor": 5
}
